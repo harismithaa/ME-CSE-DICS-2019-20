{
 "cells": [
  {
   "cell_type": "markdown",
   "metadata": {},
   "source": [
    "### Regression using OLS Formula"
   ]
  },
  {
   "cell_type": "code",
   "execution_count": 25,
   "metadata": {},
   "outputs": [
    {
     "name": "stdout",
     "output_type": "stream",
     "text": [
      "'data.frame':\t7 obs. of  2 variables:\n",
      " $ c.1..2..3..4..5..6..7.       : num  1 2 3 4 5 6 7\n",
      " $ c.87..78..69..64..60..61..50.: num  87 78 69 64 60 61 50\n"
     ]
    }
   ],
   "source": [
    "#Create a dataframe\n",
    "gaming_Effect<-data.frame(c(1,2,3,4,5,6,7),c(87,78,69,64,60,61,50))\n",
    "str(gaming_Effect)\n",
    "\n",
    "#Assign column names\n",
    "colnames(gaming_Effect)<-c(\"HoursSpent\",\"Marks\")\n",
    "\n",
    "x<-gaming_Effect$HoursSpent\n",
    "y<-gaming_Effect$Marks\n"
   ]
  },
  {
   "cell_type": "code",
   "execution_count": 26,
   "metadata": {},
   "outputs": [
    {
     "name": "stdout",
     "output_type": "stream",
     "text": [
      "[1] -5.5\n"
     ]
    }
   ],
   "source": [
    "fun.slope<-function(){\n",
    "#Initialise the sum to 0\n",
    "sum.nr = 0\n",
    "sum.dr=0\n",
    "for(i in 1:nrow(gaming_Effect)){\n",
    "  sum.nr=sum.nr+(x[i]-mean(x))*(y[i]-mean(y)) #sum the numerator\n",
    "  sum.dr=sum.dr+(x[i]-mean(x))^2 #Sum the denominator\n",
    "} \n",
    "#Find the slope\n",
    "slope=sum.nr/sum.dr\n",
    "print(slope)\n",
    "}\n",
    "slope<-fun.slope()\n"
   ]
  },
  {
   "cell_type": "code",
   "execution_count": 27,
   "metadata": {},
   "outputs": [
    {
     "data": {
      "text/html": [
       "89"
      ],
      "text/latex": [
       "89"
      ],
      "text/markdown": [
       "89"
      ],
      "text/plain": [
       "[1] 89"
      ]
     },
     "metadata": {},
     "output_type": "display_data"
    }
   ],
   "source": [
    "#Find the intercept\n",
    "intercept<-mean(y)-slope*mean(x)\n",
    "intercept"
   ]
  },
  {
   "cell_type": "code",
   "execution_count": 28,
   "metadata": {},
   "outputs": [
    {
     "data": {
      "text/html": [
       "80.75"
      ],
      "text/latex": [
       "80.75"
      ],
      "text/markdown": [
       "80.75"
      ],
      "text/plain": [
       "[1] 80.75"
      ]
     },
     "metadata": {},
     "output_type": "display_data"
    }
   ],
   "source": [
    "#Predict the marks\n",
    "predict_played = 1.5\n",
    "marks = slope*predict_played + intercept\n",
    "marks"
   ]
  },
  {
   "cell_type": "code",
   "execution_count": 29,
   "metadata": {},
   "outputs": [
    {
     "data": {
      "image/png": "[encoded data removed]",
      "text/plain": [
       "plot without title"
      ]
     },
     "metadata": {},
     "output_type": "display_data"
    }
   ],
   "source": [
    "#Draw the scatter plot\n",
    "plot(gaming_Effect$HoursSpent,gaming_Effect$Marks)"
   ]
  },
  {
   "cell_type": "markdown",
   "metadata": {},
   "source": [
    "### Regression using in-built function"
   ]
  },
  {
   "cell_type": "code",
   "execution_count": 30,
   "metadata": {},
   "outputs": [
    {
     "data": {
      "text/plain": [
       "\n",
       "Call:\n",
       "lm(formula = gaming_Effect$Marks ~ x)\n",
       "\n",
       "Coefficients:\n",
       "(Intercept)            x  \n",
       "       89.0         -5.5  \n"
      ]
     },
     "metadata": {},
     "output_type": "display_data"
    }
   ],
   "source": [
    "#Use formula to find regression\n",
    "lm.hour<-lm(gaming_Effect$Marks ~ x) #lm(dependent-variable ~ independent_variable)\n",
    "lm.hour"
   ]
  },
  {
   "cell_type": "code",
   "execution_count": 31,
   "metadata": {},
   "outputs": [
    {
     "data": {
      "text/plain": [
       "\n",
       "Call:\n",
       "lm(formula = gaming_Effect$Marks ~ x)\n",
       "\n",
       "Residuals:\n",
       "         1          2          3          4          5          6          7 \n",
       " 3.500e+00  1.499e-14 -3.500e+00 -3.000e+00 -1.500e+00  5.000e+00 -5.000e-01 \n",
       "\n",
       "Coefficients:\n",
       "            Estimate Std. Error t value Pr(>|t|)    \n",
       "(Intercept)  89.0000     2.9520  30.149 7.53e-07 ***\n",
       "x            -5.5000     0.6601  -8.332 0.000407 ***\n",
       "---\n",
       "Signif. codes:  0 '***' 0.001 '**' 0.01 '*' 0.05 '.' 0.1 ' ' 1\n",
       "\n",
       "Residual standard error: 3.493 on 5 degrees of freedom\n",
       "Multiple R-squared:  0.9328,\tAdjusted R-squared:  0.9194 \n",
       "F-statistic: 69.43 on 1 and 5 DF,  p-value: 0.0004071\n"
      ]
     },
     "metadata": {},
     "output_type": "display_data"
    }
   ],
   "source": [
    "summary(lm.hour)"
   ]
  },
  {
   "cell_type": "code",
   "execution_count": 32,
   "metadata": {},
   "outputs": [
    {
     "data": {
      "image/png": "[encoded data removed]",
      "text/plain": [
       "plot without title"
      ]
     },
     "metadata": {},
     "output_type": "display_data"
    }
   ],
   "source": [
    "#Draw the scatter plot\n",
    "plot(gaming_Effect$HoursSpent,gaming_Effect$Marks)\n",
    "#Draw the regression line\n",
    "abline(lm.hour)"
   ]
  },
  {
   "cell_type": "code",
   "execution_count": 33,
   "metadata": {},
   "outputs": [
    {
     "data": {
      "text/html": [
       "<strong>1:</strong> 80.75"
      ],
      "text/latex": [
       "\\textbf{1:} 80.75"
      ],
      "text/markdown": [
       "**1:** 80.75"
      ],
      "text/plain": [
       "    1 \n",
       "80.75 "
      ]
     },
     "metadata": {},
     "output_type": "display_data"
    }
   ],
   "source": [
    "#Predict using regression line\n",
    "a<-data.frame(x=1.5)\n",
    "predict(lm.hour,a)"
   ]
  }
 ],
 "metadata": {
  "kernelspec": {
   "display_name": "R",
   "language": "R",
   "name": "ir"
  },
  "language_info": {
   "codemirror_mode": "r",
   "file_extension": ".r",
   "mimetype": "text/x-r-source",
   "name": "R",
   "pygments_lexer": "r",
   "version": "3.3.2"
  }
 },
 "nbformat": 4,
 "nbformat_minor": 2
}
